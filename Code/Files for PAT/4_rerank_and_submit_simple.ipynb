{
 "cells": [
  {
   "cell_type": "code",
   "execution_count": null,
   "id": "9a2fa01f-745b-4cc0-accd-1d9c642b27ee",
   "metadata": {},
   "outputs": [],
   "source": [
    "import os\n",
    "import zipfile\n",
    "import re\n",
    "import subprocess\n",
    "import csv\n",
    "from pathlib import Path\n",
    "import pandas as pd\n",
    "import numpy as np\n",
    "from typing import Dict, Any, Literal, List, Optional, Tuple\n",
    "import dotenv\n",
    "import json\n",
    "import yaml\n",
    "import time\n",
    "import glob\n",
    "import hashlib\n",
    "import shutil\n",
    "import logging\n",
    "import matplotlib.pyplot as plt\n",
    "\n",
    "from PIL import Image\n",
    "from transformers import pipeline\n",
    "import torch\n",
    "import torch.nn as nn\n",
    "from torch.utils.data.dataloader import DataLoader\n",
    "from sentence_transformers import SentenceTransformer\n",
    "\n",
    "from config import cfg\n",
    "from yacs.config import CfgNode\n",
    "from model import make_model\n",
    "from utils.re_ranking import re_ranking\n",
    "from data.build_DG_dataloader import build_reid_test_loader\n",
    "from processor.ori_vit_processor_with_amp import do_inference as do_inf\n",
    "from processor.part_attention_vit_processor import do_inference as do_inf_pat\n",
    "\n",
    "import torch\n",
    "from transformers import AutoModel\n",
    "import torch.nn.functional as F\n",
    "from transformers.models.dinov2 import Dinov2Model\n",
    "\n",
    "config_test_patplusplus = \"config/UrbanElementsReID_test_patplusplus.yml\"\n",
    "\n",
    "\n",
    "competition_name = \"urban-reid-challenge\"\n",
    "submission_message = f\"New code\"\n",
    "\n",
    "\n",
    "\n",
    "\n",
    "################ Probably nothing has to be modified from now on ################\n",
    "\n",
    "assert dotenv.load_dotenv('../../.env')\n",
    "assert os.getenv('KAGGLE_USERNAME')\n",
    "\n",
    "from kaggle.api.kaggle_api_extended import KaggleApi\n",
    "api = KaggleApi()\n",
    "api.authenticate()\n",
    "\n",
    "logging.root.setLevel(logging.INFO)\n",
    "\n",
    "if not torch.cuda.is_available():\n",
    "    logging.warning(\"Where is your GPU dude?\")\n",
    "\n",
    "\n",
    "track = \"/track.txt\""
   ]
  },
  {
   "cell_type": "code",
   "execution_count": null,
   "id": "4cc1e795-e267-428b-b415-5d3d2ffbbf3c",
   "metadata": {},
   "outputs": [],
   "source": [
    "!python update.py --config_file {config_test_patplusplus} --track {os.path.join(model_path_b, \"track.txt\")}"
   ]
  },
  {
   "cell_type": "markdown",
   "id": "0a2f9a90-9aa7-4617-8a9a-2914b56c2cdf",
   "metadata": {},
   "source": [
    "# Submit"
   ]
  },
  {
   "cell_type": "code",
   "execution_count": null,
   "id": "fb6cde00-a380-4511-8500-e74548c374d1",
   "metadata": {},
   "outputs": [
    {
     "name": "stderr",
     "output_type": "stream",
     "text": [
      "INFO:root:Submitting with message \"New code; commit_hash: dd507a0d7964c8189a7975367efc8e1f1ede1cc7; hyperparameters_train_hash: 8f10df35f3f22a7060923d11debd2f45; hyperparameters_test_hash: 92df54af27bbf9cfde3308cc811d1561; matching_use_refinements: True; matching_use_text: False; embeddings_refinements_use_dino: False; matching_use_percentile_fusion: None; experiment_ID: 1746611068\"\n",
      "100%|██████████| 136k/136k [00:00<00:00, 180kB/s]\n"
     ]
    },
    {
     "data": {
      "text/plain": [
       "{\"message\": \"Successfully submitted to Urban Elements ReID Challenge\", \"ref\": 44578695}"
      ]
     },
     "execution_count": 18,
     "metadata": {},
     "output_type": "execute_result"
    }
   ],
   "source": [
    "submission_message += f\"; commit_hash: {subprocess.check_output(['git', 'rev-parse', 'HEAD']).decode('ascii').strip()}\"\n",
    "logging.info(f'Submitting with message \"{submission_message}\"')\n",
    "\n",
    "api.competition_submit(submission_file_name, submission_message, competition_name)    "
   ]
  },
  {
   "cell_type": "code",
   "execution_count": null,
   "id": "bc01a6c6-ffa2-4a90-9b9a-cbe8e364f805",
   "metadata": {},
   "outputs": [],
   "source": []
  }
 ],
 "metadata": {
  "kernelspec": {
   "display_name": "Python 3 (ipykernel)",
   "language": "python",
   "name": "python3"
  },
  "language_info": {
   "codemirror_mode": {
    "name": "ipython",
    "version": 3
   },
   "file_extension": ".py",
   "mimetype": "text/x-python",
   "name": "python",
   "nbconvert_exporter": "python",
   "pygments_lexer": "ipython3",
   "version": "3.10.12"
  }
 },
 "nbformat": 4,
 "nbformat_minor": 5
}
