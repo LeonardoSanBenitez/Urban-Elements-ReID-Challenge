{
 "cells": [
  {
   "cell_type": "code",
   "execution_count": 1,
   "id": "a8c45035-8b0b-4dde-a636-0df8cd485b33",
   "metadata": {},
   "outputs": [],
   "source": [
    "import os\n",
    "import zipfile\n",
    "import dotenv\n",
    "import subprocess\n",
    "import pandas as pd\n",
    "from typing import Dict, Any, Optional\n",
    "import json\n",
    "import yaml\n",
    "import time\n",
    "import glob\n",
    "import hashlib\n",
    "import shutil\n",
    "import logging\n",
    "import pandas as pd\n",
    "from PIL import Image\n",
    "\n",
    "competition_name = \"urban-reid-challenge\"\n",
    "\n",
    "################ Probably nothing has to be modified from now on ################\n",
    "logging.root.setLevel(logging.INFO)\n",
    "dataset_path = os.path.join('assets', 'datasets', competition_name)\n",
    "\n",
    "assert dotenv.load_dotenv('../../.env')\n",
    "assert os.getenv('KAGGLE_USERNAME')\n",
    "\n",
    "from kaggle.api.kaggle_api_extended import KaggleApi\n",
    "from huggingface_hub import HfApi, snapshot_download\n",
    "\n",
    "api = KaggleApi()\n",
    "api.authenticate()"
   ]
  },
  {
   "cell_type": "code",
   "execution_count": 2,
   "id": "4d97c036-41b7-4863-81f8-5a0eb13c9623",
   "metadata": {},
   "outputs": [],
   "source": [
    "def huggingface_model_download(\n",
    "    folder_models: str,\n",
    "    model_repository: str,\n",
    "    model_config: Optional[str] = None,\n",
    "    token: Optional[str] = None,\n",
    "    clean: bool = False,\n",
    ") -> None:\n",
    "    '''\n",
    "    Download a model or specific model config from Hugging Face Hub.\n",
    "\n",
    "    Args:\n",
    "        folder_models: Local directory to save the model\n",
    "        model_repository: Hugging Face repository ID\n",
    "        model_config: Specific model config to download (None for entire repository)\n",
    "        token: Hugging Face authentication token\n",
    "        clean: If True, the folder will be deleted before downloading\n",
    "    '''\n",
    "    folder_model = os.path.join(folder_models, model_config) if model_config else folder_models\n",
    "    if clean and os.path.exists(folder_model):\n",
    "        shutil.rmtree(folder_model)\n",
    "    if os.path.exists(folder_model):\n",
    "        logger.info('Model already exists locally, skipping download')\n",
    "        return\n",
    "    os.makedirs(folder_model, exist_ok=True)\n",
    "\n",
    "    folder_cache = '/tmp/huggingface_cache'\n",
    "    folder_cache_model = os.path.join(folder_cache, model_repository)\n",
    "    if model_config:\n",
    "        folder_cache_model = os.path.join(folder_cache_model, model_config)\n",
    "    os.makedirs(folder_cache_model, exist_ok=True)\n",
    "\n",
    "    if model_config is not None:\n",
    "        repo_path = snapshot_download(\n",
    "            repo_id=model_repository,\n",
    "            repo_type=\"model\",\n",
    "            token=token,\n",
    "            allow_patterns=f\"{model_config}/*\",\n",
    "            cache_dir=folder_cache,\n",
    "        )\n",
    "    else:\n",
    "        repo_path = snapshot_download(\n",
    "            repo_id=model_repository,\n",
    "            repo_type=\"model\",\n",
    "            token=token,\n",
    "            cache_dir=folder_cache,\n",
    "        )\n",
    "\n",
    "    source_path = repo_path if not model_config else os.path.join(repo_path, model_config)\n",
    "    print(source_path)\n",
    "    for root, _, files in os.walk(source_path):\n",
    "        for file in files:\n",
    "            file_source_path = os.path.join(root, file)\n",
    "            if os.path.islink(file_source_path):\n",
    "                file_source_path = os.path.join(root, os.readlink(file_source_path))\n",
    "            rel_path = os.path.relpath(os.path.join(root, file), start=source_path)\n",
    "            target_path = os.path.join(folder_model, rel_path)\n",
    "            os.makedirs(os.path.dirname(target_path), exist_ok=True)\n",
    "            shutil.copy2(file_source_path, target_path)"
   ]
  },
  {
   "cell_type": "code",
   "execution_count": 3,
   "id": "7e061d63-af81-472d-a46b-d588f7a063a9",
   "metadata": {},
   "outputs": [
    {
     "name": "stderr",
     "output_type": "stream",
     "text": [
      "INFO:root:Dataset already existed\n"
     ]
    }
   ],
   "source": [
    "# Download the dataset\n",
    "if not os.path.exists(dataset_path):\n",
    "    os.makedirs(dataset_path, exist_ok=True)\n",
    "    api.competition_download_files(competition_name, path=\"./assets\")\n",
    "    with zipfile.ZipFile(f'./assets/{competition_name}.zip', 'r') as zip_ref:\n",
    "        zip_ref.extractall(dataset_path)\n",
    "    os.remove(f'./assets/{competition_name}.zip')\n",
    "    logging.info(f\"Downloaded dataset for {competition_name}\")\n",
    "    \n",
    "    %cd assets/datasets/urban-reid-challenge\n",
    "    !mv ./image_query/image_query/* ./image_query/\n",
    "    !rm -r ./image_query/image_query\n",
    "    \n",
    "    !mv ./image_test/image_test/* ./image_test/\n",
    "    !rm -r ./image_test/image_test\n",
    "    \n",
    "    !mv ./image_train/image_train/* ./image_train/\n",
    "    !rm -r ./image_train/image_train\n",
    "    %cd ../../..\n",
    "else:\n",
    "    logging.info(f\"Dataset already existed\")"
   ]
  },
  {
   "cell_type": "code",
   "execution_count": 4,
   "id": "34de3e9d-0871-4c92-bd4f-4cbd150be4b5",
   "metadata": {},
   "outputs": [],
   "source": [
    "# Generate reduced dataset\n",
    "'''\n",
    "cp -r urban-reid-challenge/ urban-reid-challenge-reduced/\n",
    "cd urban-reid-challenge-reduced/\n",
    "for file in image_query/0*.jpg; do\n",
    "    num=$(basename \"$file\" .jpg)  # Extract number\n",
    "    num=$((10#$num))  # Convert to decimal\n",
    "    if ((num > 3)); then\n",
    "        rm \"$file\"\n",
    "    fi\n",
    "done\n",
    "for file in image_test/0*.jpg; do\n",
    "    num=$(basename \"$file\" .jpg)  # Extract number\n",
    "    num=$((10#$num))  # Convert to decimal\n",
    "    if ((num > 10)); then\n",
    "        rm \"$file\"\n",
    "    fi\n",
    "done\n",
    "\n",
    "sed -i '4q' query.csv\n",
    "sed -i '11q' test.csv\n",
    "''';"
   ]
  },
  {
   "cell_type": "code",
   "execution_count": null,
   "id": "29fc59a6-eb03-45d8-a42d-3c9f08e4b256",
   "metadata": {},
   "outputs": [],
   "source": [
    "# Generate augmented dataset?\n",
    "#!cp -r assets/datasets/urban-reid-challenge assets/datasets/urban-reid-challenge-augmented"
   ]
  },
  {
   "cell_type": "code",
   "execution_count": 5,
   "id": "a6d62901-e580-4db5-871d-b0c7fe515e08",
   "metadata": {},
   "outputs": [
    {
     "name": "stderr",
     "output_type": "stream",
     "text": [
      "INFO:root:model already existed\n",
      "INFO:root:model already existed\n"
     ]
    },
    {
     "data": {
      "application/vnd.jupyter.widget-view+json": {
       "model_id": "60c41bad65934f12973513a30db46fe0",
       "version_major": 2,
       "version_minor": 0
      },
      "text/plain": [
       "Fetching 5 files:   0%|          | 0/5 [00:00<?, ?it/s]"
      ]
     },
     "metadata": {},
     "output_type": "display_data"
    },
    {
     "data": {
      "application/vnd.jupyter.widget-view+json": {
       "model_id": "6ea0b5ebb1e643f79de511780b576af4",
       "version_major": 2,
       "version_minor": 0
      },
      "text/plain": [
       "README.md:   0%|          | 0.00/3.14k [00:00<?, ?B/s]"
      ]
     },
     "metadata": {},
     "output_type": "display_data"
    },
    {
     "data": {
      "application/vnd.jupyter.widget-view+json": {
       "model_id": "9f14102672da48a790392bec9346edd6",
       "version_major": 2,
       "version_minor": 0
      },
      "text/plain": [
       ".gitattributes:   0%|          | 0.00/1.52k [00:00<?, ?B/s]"
      ]
     },
     "metadata": {},
     "output_type": "display_data"
    },
    {
     "data": {
      "application/vnd.jupyter.widget-view+json": {
       "model_id": "5d895bc1cae147b0a931e9c7ca008e95",
       "version_major": 2,
       "version_minor": 0
      },
      "text/plain": [
       "diffusion_pytorch_model.safetensors:   0%|          | 0.00/24.2G [00:00<?, ?B/s]"
      ]
     },
     "metadata": {},
     "output_type": "display_data"
    },
    {
     "data": {
      "application/vnd.jupyter.widget-view+json": {
       "model_id": "0c110daa33dd434d83bf60168f2be440",
       "version_major": 2,
       "version_minor": 0
      },
      "text/plain": [
       "pytorch_lora_weights.safetensors:   0%|          | 0.00/418M [00:00<?, ?B/s]"
      ]
     },
     "metadata": {},
     "output_type": "display_data"
    },
    {
     "data": {
      "application/vnd.jupyter.widget-view+json": {
       "model_id": "013b707749ee403ab3f458c316d5dd92",
       "version_major": 2,
       "version_minor": 0
      },
      "text/plain": [
       "config.json:   0%|          | 0.00/427 [00:00<?, ?B/s]"
      ]
     },
     "metadata": {},
     "output_type": "display_data"
    },
    {
     "name": "stdout",
     "output_type": "stream",
     "text": [
      "/tmp/huggingface_cache/models--primecai--dsd_model/snapshots/7a33f82fa3575453456c4cff8683f5aab25c6f6e\n"
     ]
    }
   ],
   "source": [
    "# Download the model\n",
    "os.makedirs('assets/models', exist_ok=True)\n",
    "if not os.path.exists('assets/models/resnet50-19c8e357.pth'):\n",
    "    !curl -o \"assets/models/resnet50-19c8e357.pth\" \"https://download.pytorch.org/models/resnet50-19c8e357.pth\"\n",
    "else:\n",
    "    logging.info('model already existed')\n",
    "\n",
    "if not os.path.exists('assets/models/jx_vit_base_p16_224-80ecf9dd.pth'):\n",
    "    !curl -L -o 'assets/models/jx_vit_base_p16_224-80ecf9dd.pth'  'https://github.com/rwightman/pytorch-image-models/releases/download/v0.1-vitjx/jx_vit_base_p16_224-80ecf9dd.pth'\n",
    "else:\n",
    "    logging.info('model already existed')\n",
    "\n",
    "if not os.path.exists('assets/models/dsd_pretrained'):\n",
    "    huggingface_model_download(\n",
    "        'assets/models/dsd_pretrained',\n",
    "        model_repository='primecai/dsd_model',\n",
    "        clean=True,\n",
    "    )\n",
    "assert os.path.exists('assets/models/dsd_pretrained/pytorch_lora_weights.safetensors')\n",
    "assert os.path.exists('assets/models/dsd_pretrained/transformer/config.json')\n",
    "assert os.path.exists('assets/models/dsd_pretrained/transformer/diffusion_pytorch_model.safetensors')"
   ]
  },
  {
   "cell_type": "code",
   "execution_count": 2,
   "id": "701e6785-7933-4a11-b930-9ed25cf7e964",
   "metadata": {},
   "outputs": [
    {
     "name": "stdout",
     "output_type": "stream",
     "text": [
      "Cloning into 'assets/libs/diffusion-self-distillation'...\n",
      "remote: Enumerating objects: 78, done.\u001b[K\n",
      "remote: Counting objects: 100% (78/78), done.\u001b[K\n",
      "remote: Compressing objects: 100% (59/59), done.\u001b[K\n",
      "remote: Total 78 (delta 36), reused 47 (delta 17), pack-reused 0 (from 0)\u001b[K\n",
      "Receiving objects: 100% (78/78), 11.33 MiB | 9.32 MiB/s, done.\n",
      "Resolving deltas: 100% (36/36), done.\n"
     ]
    }
   ],
   "source": [
    "# Download third-party libraries that are not in pypi\n",
    "os.makedirs('assets/libs', exist_ok=True)\n",
    "if not os.path.exists('assets/libs/diffusion-self-distillation'):\n",
    "    !git clone https://github.com/primecai/diffusion-self-distillation.git assets/libs/diffusion-self-distillation"
   ]
  },
  {
   "cell_type": "code",
   "execution_count": null,
   "id": "753d3c00-3c67-4888-b4a0-1174f35de885",
   "metadata": {},
   "outputs": [],
   "source": []
  }
 ],
 "metadata": {
  "kernelspec": {
   "display_name": "Python 3 (ipykernel)",
   "language": "python",
   "name": "python3"
  },
  "language_info": {
   "codemirror_mode": {
    "name": "ipython",
    "version": 3
   },
   "file_extension": ".py",
   "mimetype": "text/x-python",
   "name": "python",
   "nbconvert_exporter": "python",
   "pygments_lexer": "ipython3",
   "version": "3.10.12"
  }
 },
 "nbformat": 4,
 "nbformat_minor": 5
}
