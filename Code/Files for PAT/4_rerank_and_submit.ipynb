{
 "cells": [
  {
   "cell_type": "code",
   "execution_count": 6,
   "id": "9a2fa01f-745b-4cc0-accd-1d9c642b27ee",
   "metadata": {},
   "outputs": [],
   "source": [
    "import os\n",
    "import zipfile\n",
    "import dotenv\n",
    "import subprocess\n",
    "import pandas as pd\n",
    "from typing import Dict, Any\n",
    "import json\n",
    "import yaml\n",
    "import time\n",
    "import glob\n",
    "import hashlib\n",
    "import shutil\n",
    "import logging\n",
    "import pandas as pd\n",
    "\n",
    "\n",
    "from PIL import Image\n",
    "from transformers import pipeline\n",
    "import torch\n",
    "\n",
    "config_train = \"config/UrbanElementsReID_train.yml\"  # \"config/UAM_containers.yml\"\n",
    "#config_test = \"config/UrbanElementsReID_test.yml\"\n",
    "config_test = \"config/UrbanElementsReID_test_reduced.yml\"\n",
    "competition_name = \"urban-reid-challenge\"\n",
    "submission_message = f\"test trained submission\"\n",
    "experiment_id: int = int(time.time())\n",
    "\n",
    "\n",
    "################ Probably nothing has to be modified from now on ################\n",
    "with open(config_train, 'r') as f:\n",
    "    hyperparams_train = yaml.load(f, Loader=yaml.BaseLoader)\n",
    "with open(config_test, 'r') as f:\n",
    "    hyperparams_test = yaml.load(f, Loader=yaml.BaseLoader)\n",
    "model_path = os.path.join(hyperparams_train['LOG_ROOT'], hyperparams_train['LOG_NAME'])\n",
    "\n",
    "assert dotenv.load_dotenv('../../.env')\n",
    "assert os.getenv('KAGGLE_USERNAME')\n",
    "\n",
    "from kaggle.api.kaggle_api_extended import KaggleApi\n",
    "api = KaggleApi()\n",
    "api.authenticate()\n",
    "\n",
    "logging.root.setLevel(logging.INFO)\n",
    "\n",
    "if not torch.cuda.is_available():\n",
    "    logging.warning(\"Where is your GPU dude?\")\n",
    "\n",
    "max_epoch = int(hyperparams_train['SOLVER']['MAX_EPOCHS'])\n",
    "assert hyperparams_test['TEST']['WEIGHT'].split('/')[-1] == f'part_attention_vit_{max_epoch}.pth', 'not testing with the trained model...'"
   ]
  },
  {
   "cell_type": "code",
   "execution_count": null,
   "id": "320971e8-9d27-4ff3-ad2c-10a813909834",
   "metadata": {},
   "outputs": [],
   "source": [
    "!python update.py --config_file {config_test} --track {os.path.join(model_path, \"track.txt\")}\n",
    "\n",
    "submission_file_name = os.path.join(model_path, \"track_submission.csv\")\n",
    "assert os.path.exists(submission_file_name)\n",
    "logging.info(f'Backuped everything to {experiment_id}')\n",
    "\n",
    "!cp -r {model_path} {model_path}_backup_{experiment_id}"
   ]
  },
  {
   "cell_type": "code",
   "execution_count": null,
   "id": "fb6cde00-a380-4511-8500-e74548c374d1",
   "metadata": {},
   "outputs": [],
   "source": [
    "assert os.path.exists(submission_file_name)\n",
    "df = pd.read_csv(submission_file_name)\n",
    "assert df.shape[1] == 2\n",
    "assert df.shape[0] > 100\n",
    "\n",
    "submission_message += f\"; commit_hash: {subprocess.check_output(['git', 'rev-parse', 'HEAD']).decode('ascii').strip()}\"\n",
    "submission_message += f\"; hyperparameters_train_hash: {calculate_params_hash(hyperparams_train)}\"\n",
    "submission_message += f\"; hyperparameters_test_hash: {calculate_params_hash(hyperparams_test)}\"\n",
    "submission_message += f\"; experiment_ID: {experiment_id}\"\n",
    "logging.info(f'Submitting with message \"{submission_message}\"')\n",
    "\n",
    "# Submit the file to the competition\n",
    "# Uncomment only for actual submissions!\n",
    "#api.competition_submit(submission_file_name, submission_message, competition_name)    "
   ]
  }
 ],
 "metadata": {
  "kernelspec": {
   "display_name": "Python 3 (ipykernel)",
   "language": "python",
   "name": "python3"
  },
  "language_info": {
   "codemirror_mode": {
    "name": "ipython",
    "version": 3
   },
   "file_extension": ".py",
   "mimetype": "text/x-python",
   "name": "python",
   "nbconvert_exporter": "python",
   "pygments_lexer": "ipython3",
   "version": "3.10.12"
  }
 },
 "nbformat": 4,
 "nbformat_minor": 5
}
