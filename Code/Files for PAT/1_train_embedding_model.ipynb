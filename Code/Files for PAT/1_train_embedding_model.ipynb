{
 "cells": [
  {
   "cell_type": "code",
   "execution_count": null,
   "id": "36a85adb-1c48-4442-8d11-8d648f9eec8e",
   "metadata": {},
   "outputs": [],
   "source": [
    "import os\n",
    "import zipfile\n",
    "import dotenv\n",
    "import subprocess\n",
    "import pandas as pd\n",
    "from typing import Dict, Any\n",
    "import json\n",
    "import yaml\n",
    "import time\n",
    "import glob\n",
    "import hashlib\n",
    "import shutil\n",
    "import logging\n",
    "import pandas as pd\n",
    "\n",
    "\n",
    "from PIL import Image\n",
    "from transformers import pipeline\n",
    "import torch\n",
    "\n",
    "################ Probably nothing has to be modified from now on ################\n",
    "with open(config_train, 'r') as f:\n",
    "    hyperparams_train = yaml.load(f, Loader=yaml.BaseLoader)\n",
    "model_path = os.path.join(hyperparams_train['LOG_ROOT'], hyperparams_train['LOG_NAME'])\n",
    "\n",
    "logging.root.setLevel(logging.INFO)\n",
    "\n",
    "if not torch.cuda.is_available():\n",
    "    logging.warning(\"Where is your GPU dude?\")"
   ]
  },
  {
   "cell_type": "code",
   "execution_count": null,
   "id": "9b0b1d94-d176-475f-b1f0-5aa215f46323",
   "metadata": {},
   "outputs": [],
   "source": [
    "!nvidia-smi"
   ]
  },
  {
   "cell_type": "code",
   "execution_count": null,
   "id": "35a253d8-9626-46eb-9672-6314ed19c9a3",
   "metadata": {},
   "outputs": [],
   "source": [
    "assert os.path.exists('assets'), 'are you are in the right folder?'\n",
    "assert os.getcwd().endswith('PAT'), 'are you are in the right folder?'\n",
    "if os.path.exists(model_path):\n",
    "    shutil.rmtree(model_path)\n",
    "\n",
    "!python train.py --config_file {config_train}"
   ]
  },
  {
   "cell_type": "code",
   "execution_count": null,
   "id": "954c4e48-f041-4008-9974-731df74804f9",
   "metadata": {},
   "outputs": [],
   "source": [
    "files = glob.glob(os.path.join(model_path, \"part_attention_vit_*.pth\"))\n",
    "max_epoch = max([int(f.split('_')[-1].split('.')[0]) for f in files])\n",
    "assert max_epoch > 0\n",
    "assert max_epoch == int(hyperparams_train['SOLVER']['MAX_EPOCHS'])\n",
    "assert os.path.exists(os.path.join(model_path, f'part_attention_vit_{max_epoch}.pth'))\n",
    "logging.info('max_epoch:', max_epoch)"
   ]
  }
 ],
 "metadata": {
  "kernelspec": {
   "display_name": "Python 3 (ipykernel)",
   "language": "python",
   "name": "python3"
  },
  "language_info": {
   "codemirror_mode": {
    "name": "ipython",
    "version": 3
   },
   "file_extension": ".py",
   "mimetype": "text/x-python",
   "name": "python",
   "nbconvert_exporter": "python",
   "pygments_lexer": "ipython3",
   "version": "3.10.12"
  }
 },
 "nbformat": 4,
 "nbformat_minor": 5
}
