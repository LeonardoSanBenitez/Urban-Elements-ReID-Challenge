{
 "cells": [
  {
   "cell_type": "code",
   "execution_count": null,
   "id": "b395b907-eef8-4d51-a4b5-861574f7b5f7",
   "metadata": {},
   "outputs": [],
   "source": [
    "dataset = 'urban-reid-challenge'\n",
    "train_embedding(dataset)\n",
    "\n",
    "for split in ['query', 'test']:\n",
    "    logging.info('-'*50 + f'\\nRefining {split}')\n",
    "    refine(dataset, split)\n",
    "\n",
    "for split in ['query', 'test']:\n",
    "    logging.info('-'*50 + f'\\nRefining {split}')\n",
    "    generate(dataset, split)\n",
    "\n",
    "rerak(dataset)"
   ]
  }
 ],
 "metadata": {
  "kernelspec": {
   "display_name": "Python 3 (ipykernel)",
   "language": "python",
   "name": "python3"
  },
  "language_info": {
   "codemirror_mode": {
    "name": "ipython",
    "version": 3
   },
   "file_extension": ".py",
   "mimetype": "text/x-python",
   "name": "python",
   "nbconvert_exporter": "python",
   "pygments_lexer": "ipython3",
   "version": "3.10.12"
  }
 },
 "nbformat": 4,
 "nbformat_minor": 5
}
